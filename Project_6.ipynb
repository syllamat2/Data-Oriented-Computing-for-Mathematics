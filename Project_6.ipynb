{
 "cells": [
  {
   "cell_type": "code",
   "execution_count": 1,
   "metadata": {},
   "outputs": [],
   "source": [
    "import numpy as np\n",
    "import pandas as pd\n",
    "from scipy.stats import gaussian_kde"
   ]
  },
  {
   "cell_type": "code",
   "execution_count": 2,
   "metadata": {},
   "outputs": [],
   "source": [
    "df = pd.read_csv(\"marathon_results.csv\")"
   ]
  },
  {
   "cell_type": "code",
   "execution_count": 3,
   "metadata": {},
   "outputs": [],
   "source": [
    "df[\"tot_minutes\"] = pd.to_timedelta(df[\"Finish\"]).dt.total_seconds()/60"
   ]
  },
  {
   "cell_type": "code",
   "execution_count": 4,
   "metadata": {},
   "outputs": [
    {
     "data": {
      "text/html": [
       "<div>\n",
       "<style scoped>\n",
       "    .dataframe tbody tr th:only-of-type {\n",
       "        vertical-align: middle;\n",
       "    }\n",
       "\n",
       "    .dataframe tbody tr th {\n",
       "        vertical-align: top;\n",
       "    }\n",
       "\n",
       "    .dataframe thead th {\n",
       "        text-align: right;\n",
       "    }\n",
       "</style>\n",
       "<table border=\"1\" class=\"dataframe\">\n",
       "  <thead>\n",
       "    <tr style=\"text-align: right;\">\n",
       "      <th></th>\n",
       "      <th>Age</th>\n",
       "      <th>M/F</th>\n",
       "      <th>Country</th>\n",
       "      <th>5K</th>\n",
       "      <th>10K</th>\n",
       "      <th>15K</th>\n",
       "      <th>20K</th>\n",
       "      <th>Half</th>\n",
       "      <th>25K</th>\n",
       "      <th>30K</th>\n",
       "      <th>35K</th>\n",
       "      <th>40K</th>\n",
       "      <th>Finish</th>\n",
       "      <th>Pace</th>\n",
       "      <th>Overall</th>\n",
       "      <th>Gender</th>\n",
       "      <th>Division</th>\n",
       "      <th>tot_minutes</th>\n",
       "    </tr>\n",
       "  </thead>\n",
       "  <tbody>\n",
       "    <tr>\n",
       "      <th>0</th>\n",
       "      <td>25</td>\n",
       "      <td>M</td>\n",
       "      <td>ETH</td>\n",
       "      <td>00:14:43</td>\n",
       "      <td>00:29:43</td>\n",
       "      <td>00:44:57</td>\n",
       "      <td>01:00:29</td>\n",
       "      <td>01:04:02</td>\n",
       "      <td>01:16:07</td>\n",
       "      <td>01:32:00</td>\n",
       "      <td>01:47:59</td>\n",
       "      <td>02:02:39</td>\n",
       "      <td>02:09:17</td>\n",
       "      <td>00:04:56</td>\n",
       "      <td>1</td>\n",
       "      <td>1</td>\n",
       "      <td>1</td>\n",
       "      <td>129.283333</td>\n",
       "    </tr>\n",
       "    <tr>\n",
       "      <th>1</th>\n",
       "      <td>30</td>\n",
       "      <td>M</td>\n",
       "      <td>ETH</td>\n",
       "      <td>00:14:43</td>\n",
       "      <td>00:29:43</td>\n",
       "      <td>00:44:58</td>\n",
       "      <td>01:00:28</td>\n",
       "      <td>01:04:01</td>\n",
       "      <td>01:16:07</td>\n",
       "      <td>01:31:59</td>\n",
       "      <td>01:47:59</td>\n",
       "      <td>02:02:42</td>\n",
       "      <td>02:09:48</td>\n",
       "      <td>00:04:58</td>\n",
       "      <td>2</td>\n",
       "      <td>2</td>\n",
       "      <td>2</td>\n",
       "      <td>129.800000</td>\n",
       "    </tr>\n",
       "    <tr>\n",
       "      <th>2</th>\n",
       "      <td>29</td>\n",
       "      <td>M</td>\n",
       "      <td>KEN</td>\n",
       "      <td>00:14:43</td>\n",
       "      <td>00:29:43</td>\n",
       "      <td>00:44:57</td>\n",
       "      <td>01:00:29</td>\n",
       "      <td>01:04:02</td>\n",
       "      <td>01:16:07</td>\n",
       "      <td>01:32:00</td>\n",
       "      <td>01:47:59</td>\n",
       "      <td>02:03:01</td>\n",
       "      <td>02:10:22</td>\n",
       "      <td>00:04:59</td>\n",
       "      <td>3</td>\n",
       "      <td>3</td>\n",
       "      <td>3</td>\n",
       "      <td>130.366667</td>\n",
       "    </tr>\n",
       "    <tr>\n",
       "      <th>3</th>\n",
       "      <td>28</td>\n",
       "      <td>M</td>\n",
       "      <td>KEN</td>\n",
       "      <td>00:14:43</td>\n",
       "      <td>00:29:44</td>\n",
       "      <td>00:45:01</td>\n",
       "      <td>01:00:29</td>\n",
       "      <td>01:04:02</td>\n",
       "      <td>01:16:07</td>\n",
       "      <td>01:32:00</td>\n",
       "      <td>01:48:03</td>\n",
       "      <td>02:03:47</td>\n",
       "      <td>02:10:47</td>\n",
       "      <td>00:05:00</td>\n",
       "      <td>4</td>\n",
       "      <td>4</td>\n",
       "      <td>4</td>\n",
       "      <td>130.783333</td>\n",
       "    </tr>\n",
       "    <tr>\n",
       "      <th>4</th>\n",
       "      <td>32</td>\n",
       "      <td>M</td>\n",
       "      <td>KEN</td>\n",
       "      <td>00:14:43</td>\n",
       "      <td>00:29:44</td>\n",
       "      <td>00:44:58</td>\n",
       "      <td>01:00:28</td>\n",
       "      <td>01:04:01</td>\n",
       "      <td>01:16:07</td>\n",
       "      <td>01:32:00</td>\n",
       "      <td>01:47:59</td>\n",
       "      <td>02:03:27</td>\n",
       "      <td>02:10:49</td>\n",
       "      <td>00:05:00</td>\n",
       "      <td>5</td>\n",
       "      <td>5</td>\n",
       "      <td>5</td>\n",
       "      <td>130.816667</td>\n",
       "    </tr>\n",
       "    <tr>\n",
       "      <th>...</th>\n",
       "      <td>...</td>\n",
       "      <td>...</td>\n",
       "      <td>...</td>\n",
       "      <td>...</td>\n",
       "      <td>...</td>\n",
       "      <td>...</td>\n",
       "      <td>...</td>\n",
       "      <td>...</td>\n",
       "      <td>...</td>\n",
       "      <td>...</td>\n",
       "      <td>...</td>\n",
       "      <td>...</td>\n",
       "      <td>...</td>\n",
       "      <td>...</td>\n",
       "      <td>...</td>\n",
       "      <td>...</td>\n",
       "      <td>...</td>\n",
       "      <td>...</td>\n",
       "    </tr>\n",
       "    <tr>\n",
       "      <th>26293</th>\n",
       "      <td>64</td>\n",
       "      <td>F</td>\n",
       "      <td>USA</td>\n",
       "      <td>00:50:15</td>\n",
       "      <td>01:43:31</td>\n",
       "      <td>02:36:53</td>\n",
       "      <td>03:32:26</td>\n",
       "      <td>03:43:46</td>\n",
       "      <td>04:25:53</td>\n",
       "      <td>05:19:44</td>\n",
       "      <td>06:17:19</td>\n",
       "      <td>07:13:34</td>\n",
       "      <td>07:38:56</td>\n",
       "      <td>00:17:31</td>\n",
       "      <td>26594</td>\n",
       "      <td>12015</td>\n",
       "      <td>269</td>\n",
       "      <td>458.933333</td>\n",
       "    </tr>\n",
       "    <tr>\n",
       "      <th>26294</th>\n",
       "      <td>61</td>\n",
       "      <td>F</td>\n",
       "      <td>USA</td>\n",
       "      <td>00:48:36</td>\n",
       "      <td>01:39:39</td>\n",
       "      <td>02:39:13</td>\n",
       "      <td>03:35:58</td>\n",
       "      <td>03:47:55</td>\n",
       "      <td>04:32:44</td>\n",
       "      <td>05:31:58</td>\n",
       "      <td>06:28:56</td>\n",
       "      <td>07:26:19</td>\n",
       "      <td>07:51:30</td>\n",
       "      <td>00:17:59</td>\n",
       "      <td>26595</td>\n",
       "      <td>12016</td>\n",
       "      <td>270</td>\n",
       "      <td>471.500000</td>\n",
       "    </tr>\n",
       "    <tr>\n",
       "      <th>26295</th>\n",
       "      <td>66</td>\n",
       "      <td>F</td>\n",
       "      <td>USA</td>\n",
       "      <td>00:53:03</td>\n",
       "      <td>01:47:16</td>\n",
       "      <td>02:41:45</td>\n",
       "      <td>03:37:07</td>\n",
       "      <td>03:48:21</td>\n",
       "      <td>04:33:51</td>\n",
       "      <td>05:38:56</td>\n",
       "      <td>06:38:51</td>\n",
       "      <td>07:36:18</td>\n",
       "      <td>07:59:33</td>\n",
       "      <td>00:18:18</td>\n",
       "      <td>26596</td>\n",
       "      <td>12017</td>\n",
       "      <td>91</td>\n",
       "      <td>479.550000</td>\n",
       "    </tr>\n",
       "    <tr>\n",
       "      <th>26296</th>\n",
       "      <td>53</td>\n",
       "      <td>M</td>\n",
       "      <td>USA</td>\n",
       "      <td>00:49:04</td>\n",
       "      <td>01:40:12</td>\n",
       "      <td>02:33:31</td>\n",
       "      <td>03:31:41</td>\n",
       "      <td>03:43:35</td>\n",
       "      <td>04:29:20</td>\n",
       "      <td>05:31:11</td>\n",
       "      <td>06:33:35</td>\n",
       "      <td>07:35:38</td>\n",
       "      <td>08:00:37</td>\n",
       "      <td>00:18:20</td>\n",
       "      <td>26597</td>\n",
       "      <td>14580</td>\n",
       "      <td>2055</td>\n",
       "      <td>480.616667</td>\n",
       "    </tr>\n",
       "    <tr>\n",
       "      <th>26297</th>\n",
       "      <td>62</td>\n",
       "      <td>M</td>\n",
       "      <td>USA</td>\n",
       "      <td>00:40:14</td>\n",
       "      <td>01:28:18</td>\n",
       "      <td>02:26:46</td>\n",
       "      <td>03:28:41</td>\n",
       "      <td>03:40:36</td>\n",
       "      <td>04:36:06</td>\n",
       "      <td>05:43:44</td>\n",
       "      <td>06:51:31</td>\n",
       "      <td>07:41:28</td>\n",
       "      <td>08:06:01</td>\n",
       "      <td>00:18:33</td>\n",
       "      <td>26598</td>\n",
       "      <td>14581</td>\n",
       "      <td>898</td>\n",
       "      <td>486.016667</td>\n",
       "    </tr>\n",
       "  </tbody>\n",
       "</table>\n",
       "<p>26298 rows × 18 columns</p>\n",
       "</div>"
      ],
      "text/plain": [
       "       Age M/F Country        5K       10K       15K       20K      Half  \\\n",
       "0       25   M     ETH  00:14:43  00:29:43  00:44:57  01:00:29  01:04:02   \n",
       "1       30   M     ETH  00:14:43  00:29:43  00:44:58  01:00:28  01:04:01   \n",
       "2       29   M     KEN  00:14:43  00:29:43  00:44:57  01:00:29  01:04:02   \n",
       "3       28   M     KEN  00:14:43  00:29:44  00:45:01  01:00:29  01:04:02   \n",
       "4       32   M     KEN  00:14:43  00:29:44  00:44:58  01:00:28  01:04:01   \n",
       "...    ...  ..     ...       ...       ...       ...       ...       ...   \n",
       "26293   64   F     USA  00:50:15  01:43:31  02:36:53  03:32:26  03:43:46   \n",
       "26294   61   F     USA  00:48:36  01:39:39  02:39:13  03:35:58  03:47:55   \n",
       "26295   66   F     USA  00:53:03  01:47:16  02:41:45  03:37:07  03:48:21   \n",
       "26296   53   M     USA  00:49:04  01:40:12  02:33:31  03:31:41  03:43:35   \n",
       "26297   62   M     USA  00:40:14  01:28:18  02:26:46  03:28:41  03:40:36   \n",
       "\n",
       "            25K       30K       35K       40K    Finish      Pace  Overall  \\\n",
       "0      01:16:07  01:32:00  01:47:59  02:02:39  02:09:17  00:04:56        1   \n",
       "1      01:16:07  01:31:59  01:47:59  02:02:42  02:09:48  00:04:58        2   \n",
       "2      01:16:07  01:32:00  01:47:59  02:03:01  02:10:22  00:04:59        3   \n",
       "3      01:16:07  01:32:00  01:48:03  02:03:47  02:10:47  00:05:00        4   \n",
       "4      01:16:07  01:32:00  01:47:59  02:03:27  02:10:49  00:05:00        5   \n",
       "...         ...       ...       ...       ...       ...       ...      ...   \n",
       "26293  04:25:53  05:19:44  06:17:19  07:13:34  07:38:56  00:17:31    26594   \n",
       "26294  04:32:44  05:31:58  06:28:56  07:26:19  07:51:30  00:17:59    26595   \n",
       "26295  04:33:51  05:38:56  06:38:51  07:36:18  07:59:33  00:18:18    26596   \n",
       "26296  04:29:20  05:31:11  06:33:35  07:35:38  08:00:37  00:18:20    26597   \n",
       "26297  04:36:06  05:43:44  06:51:31  07:41:28  08:06:01  00:18:33    26598   \n",
       "\n",
       "       Gender  Division  tot_minutes  \n",
       "0           1         1   129.283333  \n",
       "1           2         2   129.800000  \n",
       "2           3         3   130.366667  \n",
       "3           4         4   130.783333  \n",
       "4           5         5   130.816667  \n",
       "...       ...       ...          ...  \n",
       "26293   12015       269   458.933333  \n",
       "26294   12016       270   471.500000  \n",
       "26295   12017        91   479.550000  \n",
       "26296   14580      2055   480.616667  \n",
       "26297   14581       898   486.016667  \n",
       "\n",
       "[26298 rows x 18 columns]"
      ]
     },
     "execution_count": 4,
     "metadata": {},
     "output_type": "execute_result"
    }
   ],
   "source": [
    "df"
   ]
  },
  {
   "cell_type": "markdown",
   "metadata": {},
   "source": [
    "Split the data between training and testing"
   ]
  },
  {
   "cell_type": "code",
   "execution_count": 5,
   "metadata": {},
   "outputs": [],
   "source": [
    "train_df = df.sample(frac=0.5, random_state=1)"
   ]
  },
  {
   "cell_type": "code",
   "execution_count": 6,
   "metadata": {},
   "outputs": [],
   "source": [
    "test_df = df.drop(train_df.index)"
   ]
  },
  {
   "cell_type": "markdown",
   "metadata": {},
   "source": [
    "Split again in two gender groups. Calculate the probability of a runner finishing at certain time\n",
    "given the age and gender using the KDE for male (kdem) and the probability of male (prob_m).\n",
    "Do the same thing for female."
   ]
  },
  {
   "cell_type": "code",
   "execution_count": 7,
   "metadata": {},
   "outputs": [],
   "source": [
    "train_dfm = train_df[train_df[\"M/F\"] == \"M\"]\n",
    "train_dff = train_df[train_df[\"M/F\"] == \"F\"]\n",
    "\n",
    "kdem = gaussian_kde(train_dfm[[\"tot_minutes\", \"Age\"]].T, bw_method=0.3)\n",
    "kdef = gaussian_kde(train_dff[[\"tot_minutes\", \"Age\"]].T, bw_method=0.5)\n",
    "\n",
    "mc = len(train_dfm)\n",
    "fc = len(train_dff)\n",
    "\n",
    "prob_f = fc/(fc+mc)\n",
    "prob_m = mc/(fc+mc)"
   ]
  },
  {
   "cell_type": "markdown",
   "metadata": {},
   "source": [
    "defining a predictor function for each gender to calculate the probability of a gender, given time and age, to use a test data. "
   ]
  },
  {
   "cell_type": "code",
   "execution_count": 8,
   "metadata": {},
   "outputs": [],
   "source": [
    "def predictor_f(t, a):\n",
    "    return (kdef([t, a])*prob_f)/(kdef([t, a])*prob_f + kdem([t, a])*prob_m)"
   ]
  },
  {
   "cell_type": "code",
   "execution_count": 9,
   "metadata": {},
   "outputs": [],
   "source": [
    "def predictor_m(t, a):\n",
    "    return (kdem([t, a])*prob_m)/(kdef([t, a])*prob_f + kdem([t, a])*prob_m)"
   ]
  },
  {
   "cell_type": "code",
   "execution_count": 10,
   "metadata": {},
   "outputs": [],
   "source": [
    "test_df[\"prob_F\"] = predictor_f(test_df[\"tot_minutes\"], test_df[\"Age\"])"
   ]
  },
  {
   "cell_type": "code",
   "execution_count": 11,
   "metadata": {},
   "outputs": [],
   "source": [
    "test_df[\"prob_M\"] = predictor_m(test_df[\"tot_minutes\"], test_df[\"Age\"])"
   ]
  },
  {
   "cell_type": "code",
   "execution_count": 12,
   "metadata": {},
   "outputs": [
    {
     "data": {
      "text/html": [
       "<div>\n",
       "<style scoped>\n",
       "    .dataframe tbody tr th:only-of-type {\n",
       "        vertical-align: middle;\n",
       "    }\n",
       "\n",
       "    .dataframe tbody tr th {\n",
       "        vertical-align: top;\n",
       "    }\n",
       "\n",
       "    .dataframe thead th {\n",
       "        text-align: right;\n",
       "    }\n",
       "</style>\n",
       "<table border=\"1\" class=\"dataframe\">\n",
       "  <thead>\n",
       "    <tr style=\"text-align: right;\">\n",
       "      <th></th>\n",
       "      <th>Age</th>\n",
       "      <th>M/F</th>\n",
       "      <th>Country</th>\n",
       "      <th>5K</th>\n",
       "      <th>10K</th>\n",
       "      <th>15K</th>\n",
       "      <th>20K</th>\n",
       "      <th>Half</th>\n",
       "      <th>25K</th>\n",
       "      <th>30K</th>\n",
       "      <th>35K</th>\n",
       "      <th>40K</th>\n",
       "      <th>Finish</th>\n",
       "      <th>Pace</th>\n",
       "      <th>Overall</th>\n",
       "      <th>Gender</th>\n",
       "      <th>Division</th>\n",
       "      <th>tot_minutes</th>\n",
       "      <th>prob_F</th>\n",
       "      <th>prob_M</th>\n",
       "    </tr>\n",
       "  </thead>\n",
       "  <tbody>\n",
       "    <tr>\n",
       "      <th>1</th>\n",
       "      <td>30</td>\n",
       "      <td>M</td>\n",
       "      <td>ETH</td>\n",
       "      <td>00:14:43</td>\n",
       "      <td>00:29:43</td>\n",
       "      <td>00:44:58</td>\n",
       "      <td>01:00:28</td>\n",
       "      <td>01:04:01</td>\n",
       "      <td>01:16:07</td>\n",
       "      <td>01:31:59</td>\n",
       "      <td>01:47:59</td>\n",
       "      <td>02:02:42</td>\n",
       "      <td>02:09:48</td>\n",
       "      <td>00:04:58</td>\n",
       "      <td>2</td>\n",
       "      <td>2</td>\n",
       "      <td>2</td>\n",
       "      <td>129.800000</td>\n",
       "      <td>0.112831</td>\n",
       "      <td>8.871690e-01</td>\n",
       "    </tr>\n",
       "    <tr>\n",
       "      <th>9</th>\n",
       "      <td>33</td>\n",
       "      <td>M</td>\n",
       "      <td>UKR</td>\n",
       "      <td>00:15:14</td>\n",
       "      <td>00:30:34</td>\n",
       "      <td>00:46:05</td>\n",
       "      <td>01:01:43</td>\n",
       "      <td>01:05:07</td>\n",
       "      <td>01:17:18</td>\n",
       "      <td>01:33:11</td>\n",
       "      <td>01:49:43</td>\n",
       "      <td>02:06:16</td>\n",
       "      <td>02:13:52</td>\n",
       "      <td>00:05:07</td>\n",
       "      <td>10</td>\n",
       "      <td>10</td>\n",
       "      <td>10</td>\n",
       "      <td>133.866667</td>\n",
       "      <td>0.124469</td>\n",
       "      <td>8.755307e-01</td>\n",
       "    </tr>\n",
       "    <tr>\n",
       "      <th>10</th>\n",
       "      <td>33</td>\n",
       "      <td>M</td>\n",
       "      <td>USA</td>\n",
       "      <td>00:14:46</td>\n",
       "      <td>00:29:50</td>\n",
       "      <td>00:45:33</td>\n",
       "      <td>01:01:20</td>\n",
       "      <td>01:04:48</td>\n",
       "      <td>01:17:08</td>\n",
       "      <td>01:33:12</td>\n",
       "      <td>01:49:52</td>\n",
       "      <td>02:06:55</td>\n",
       "      <td>02:13:52</td>\n",
       "      <td>00:05:07</td>\n",
       "      <td>11</td>\n",
       "      <td>11</td>\n",
       "      <td>11</td>\n",
       "      <td>133.866667</td>\n",
       "      <td>0.124469</td>\n",
       "      <td>8.755307e-01</td>\n",
       "    </tr>\n",
       "    <tr>\n",
       "      <th>14</th>\n",
       "      <td>42</td>\n",
       "      <td>M</td>\n",
       "      <td>ITA</td>\n",
       "      <td>00:15:53</td>\n",
       "      <td>00:32:17</td>\n",
       "      <td>00:48:32</td>\n",
       "      <td>01:04:49</td>\n",
       "      <td>01:08:21</td>\n",
       "      <td>01:21:17</td>\n",
       "      <td>01:38:02</td>\n",
       "      <td>01:54:55</td>\n",
       "      <td>02:11:25</td>\n",
       "      <td>02:18:44</td>\n",
       "      <td>00:05:18</td>\n",
       "      <td>15</td>\n",
       "      <td>15</td>\n",
       "      <td>1</td>\n",
       "      <td>138.733333</td>\n",
       "      <td>0.175468</td>\n",
       "      <td>8.245325e-01</td>\n",
       "    </tr>\n",
       "    <tr>\n",
       "      <th>15</th>\n",
       "      <td>29</td>\n",
       "      <td>M</td>\n",
       "      <td>USA</td>\n",
       "      <td>00:16:08</td>\n",
       "      <td>00:32:19</td>\n",
       "      <td>00:48:41</td>\n",
       "      <td>01:05:01</td>\n",
       "      <td>01:08:38</td>\n",
       "      <td>01:21:18</td>\n",
       "      <td>01:38:01</td>\n",
       "      <td>01:54:54</td>\n",
       "      <td>02:11:37</td>\n",
       "      <td>02:19:12</td>\n",
       "      <td>00:05:19</td>\n",
       "      <td>16</td>\n",
       "      <td>16</td>\n",
       "      <td>15</td>\n",
       "      <td>139.200000</td>\n",
       "      <td>0.115613</td>\n",
       "      <td>8.843874e-01</td>\n",
       "    </tr>\n",
       "    <tr>\n",
       "      <th>...</th>\n",
       "      <td>...</td>\n",
       "      <td>...</td>\n",
       "      <td>...</td>\n",
       "      <td>...</td>\n",
       "      <td>...</td>\n",
       "      <td>...</td>\n",
       "      <td>...</td>\n",
       "      <td>...</td>\n",
       "      <td>...</td>\n",
       "      <td>...</td>\n",
       "      <td>...</td>\n",
       "      <td>...</td>\n",
       "      <td>...</td>\n",
       "      <td>...</td>\n",
       "      <td>...</td>\n",
       "      <td>...</td>\n",
       "      <td>...</td>\n",
       "      <td>...</td>\n",
       "      <td>...</td>\n",
       "      <td>...</td>\n",
       "    </tr>\n",
       "    <tr>\n",
       "      <th>26287</th>\n",
       "      <td>49</td>\n",
       "      <td>M</td>\n",
       "      <td>USA</td>\n",
       "      <td>00:39:11</td>\n",
       "      <td>01:21:33</td>\n",
       "      <td>02:06:32</td>\n",
       "      <td>02:57:51</td>\n",
       "      <td>03:08:56</td>\n",
       "      <td>03:48:37</td>\n",
       "      <td>04:40:33</td>\n",
       "      <td>05:30:51</td>\n",
       "      <td>06:18:53</td>\n",
       "      <td>06:39:52</td>\n",
       "      <td>00:15:16</td>\n",
       "      <td>26588</td>\n",
       "      <td>14575</td>\n",
       "      <td>2484</td>\n",
       "      <td>399.866667</td>\n",
       "      <td>0.515097</td>\n",
       "      <td>4.849033e-01</td>\n",
       "    </tr>\n",
       "    <tr>\n",
       "      <th>26288</th>\n",
       "      <td>47</td>\n",
       "      <td>F</td>\n",
       "      <td>USA</td>\n",
       "      <td>00:43:22</td>\n",
       "      <td>01:27:40</td>\n",
       "      <td>02:13:36</td>\n",
       "      <td>03:01:58</td>\n",
       "      <td>03:12:16</td>\n",
       "      <td>03:49:07</td>\n",
       "      <td>04:41:53</td>\n",
       "      <td>05:34:15</td>\n",
       "      <td>06:23:00</td>\n",
       "      <td>06:42:01</td>\n",
       "      <td>00:15:20</td>\n",
       "      <td>26589</td>\n",
       "      <td>12014</td>\n",
       "      <td>1832</td>\n",
       "      <td>402.016667</td>\n",
       "      <td>0.374358</td>\n",
       "      <td>6.256425e-01</td>\n",
       "    </tr>\n",
       "    <tr>\n",
       "      <th>26295</th>\n",
       "      <td>66</td>\n",
       "      <td>F</td>\n",
       "      <td>USA</td>\n",
       "      <td>00:53:03</td>\n",
       "      <td>01:47:16</td>\n",
       "      <td>02:41:45</td>\n",
       "      <td>03:37:07</td>\n",
       "      <td>03:48:21</td>\n",
       "      <td>04:33:51</td>\n",
       "      <td>05:38:56</td>\n",
       "      <td>06:38:51</td>\n",
       "      <td>07:36:18</td>\n",
       "      <td>07:59:33</td>\n",
       "      <td>00:18:18</td>\n",
       "      <td>26596</td>\n",
       "      <td>12017</td>\n",
       "      <td>91</td>\n",
       "      <td>479.550000</td>\n",
       "      <td>0.999996</td>\n",
       "      <td>3.711321e-06</td>\n",
       "    </tr>\n",
       "    <tr>\n",
       "      <th>26296</th>\n",
       "      <td>53</td>\n",
       "      <td>M</td>\n",
       "      <td>USA</td>\n",
       "      <td>00:49:04</td>\n",
       "      <td>01:40:12</td>\n",
       "      <td>02:33:31</td>\n",
       "      <td>03:31:41</td>\n",
       "      <td>03:43:35</td>\n",
       "      <td>04:29:20</td>\n",
       "      <td>05:31:11</td>\n",
       "      <td>06:33:35</td>\n",
       "      <td>07:35:38</td>\n",
       "      <td>08:00:37</td>\n",
       "      <td>00:18:20</td>\n",
       "      <td>26597</td>\n",
       "      <td>14580</td>\n",
       "      <td>2055</td>\n",
       "      <td>480.616667</td>\n",
       "      <td>0.999999</td>\n",
       "      <td>6.374998e-07</td>\n",
       "    </tr>\n",
       "    <tr>\n",
       "      <th>26297</th>\n",
       "      <td>62</td>\n",
       "      <td>M</td>\n",
       "      <td>USA</td>\n",
       "      <td>00:40:14</td>\n",
       "      <td>01:28:18</td>\n",
       "      <td>02:26:46</td>\n",
       "      <td>03:28:41</td>\n",
       "      <td>03:40:36</td>\n",
       "      <td>04:36:06</td>\n",
       "      <td>05:43:44</td>\n",
       "      <td>06:51:31</td>\n",
       "      <td>07:41:28</td>\n",
       "      <td>08:06:01</td>\n",
       "      <td>00:18:33</td>\n",
       "      <td>26598</td>\n",
       "      <td>14581</td>\n",
       "      <td>898</td>\n",
       "      <td>486.016667</td>\n",
       "      <td>1.000000</td>\n",
       "      <td>2.032926e-07</td>\n",
       "    </tr>\n",
       "  </tbody>\n",
       "</table>\n",
       "<p>13149 rows × 20 columns</p>\n",
       "</div>"
      ],
      "text/plain": [
       "       Age M/F Country        5K       10K       15K       20K      Half  \\\n",
       "1       30   M     ETH  00:14:43  00:29:43  00:44:58  01:00:28  01:04:01   \n",
       "9       33   M     UKR  00:15:14  00:30:34  00:46:05  01:01:43  01:05:07   \n",
       "10      33   M     USA  00:14:46  00:29:50  00:45:33  01:01:20  01:04:48   \n",
       "14      42   M     ITA  00:15:53  00:32:17  00:48:32  01:04:49  01:08:21   \n",
       "15      29   M     USA  00:16:08  00:32:19  00:48:41  01:05:01  01:08:38   \n",
       "...    ...  ..     ...       ...       ...       ...       ...       ...   \n",
       "26287   49   M     USA  00:39:11  01:21:33  02:06:32  02:57:51  03:08:56   \n",
       "26288   47   F     USA  00:43:22  01:27:40  02:13:36  03:01:58  03:12:16   \n",
       "26295   66   F     USA  00:53:03  01:47:16  02:41:45  03:37:07  03:48:21   \n",
       "26296   53   M     USA  00:49:04  01:40:12  02:33:31  03:31:41  03:43:35   \n",
       "26297   62   M     USA  00:40:14  01:28:18  02:26:46  03:28:41  03:40:36   \n",
       "\n",
       "            25K       30K       35K       40K    Finish      Pace  Overall  \\\n",
       "1      01:16:07  01:31:59  01:47:59  02:02:42  02:09:48  00:04:58        2   \n",
       "9      01:17:18  01:33:11  01:49:43  02:06:16  02:13:52  00:05:07       10   \n",
       "10     01:17:08  01:33:12  01:49:52  02:06:55  02:13:52  00:05:07       11   \n",
       "14     01:21:17  01:38:02  01:54:55  02:11:25  02:18:44  00:05:18       15   \n",
       "15     01:21:18  01:38:01  01:54:54  02:11:37  02:19:12  00:05:19       16   \n",
       "...         ...       ...       ...       ...       ...       ...      ...   \n",
       "26287  03:48:37  04:40:33  05:30:51  06:18:53  06:39:52  00:15:16    26588   \n",
       "26288  03:49:07  04:41:53  05:34:15  06:23:00  06:42:01  00:15:20    26589   \n",
       "26295  04:33:51  05:38:56  06:38:51  07:36:18  07:59:33  00:18:18    26596   \n",
       "26296  04:29:20  05:31:11  06:33:35  07:35:38  08:00:37  00:18:20    26597   \n",
       "26297  04:36:06  05:43:44  06:51:31  07:41:28  08:06:01  00:18:33    26598   \n",
       "\n",
       "       Gender  Division  tot_minutes    prob_F        prob_M  \n",
       "1           2         2   129.800000  0.112831  8.871690e-01  \n",
       "9          10        10   133.866667  0.124469  8.755307e-01  \n",
       "10         11        11   133.866667  0.124469  8.755307e-01  \n",
       "14         15         1   138.733333  0.175468  8.245325e-01  \n",
       "15         16        15   139.200000  0.115613  8.843874e-01  \n",
       "...       ...       ...          ...       ...           ...  \n",
       "26287   14575      2484   399.866667  0.515097  4.849033e-01  \n",
       "26288   12014      1832   402.016667  0.374358  6.256425e-01  \n",
       "26295   12017        91   479.550000  0.999996  3.711321e-06  \n",
       "26296   14580      2055   480.616667  0.999999  6.374998e-07  \n",
       "26297   14581       898   486.016667  1.000000  2.032926e-07  \n",
       "\n",
       "[13149 rows x 20 columns]"
      ]
     },
     "execution_count": 12,
     "metadata": {},
     "output_type": "execute_result"
    }
   ],
   "source": [
    "test_df"
   ]
  },
  {
   "cell_type": "markdown",
   "metadata": {},
   "source": [
    "This was able to correctly predict the gender of the runner given time and age with over 75% accuracy."
   ]
  },
  {
   "cell_type": "code",
   "execution_count": 13,
   "metadata": {},
   "outputs": [
    {
     "data": {
      "text/plain": [
       "0.7512358354247471"
      ]
     },
     "execution_count": 13,
     "metadata": {},
     "output_type": "execute_result"
    }
   ],
   "source": [
    "sum((test_df[\"prob_F\"] >= 0.5) == (test_df[\"M/F\"] == \"F\"))/len(test_df)"
   ]
  },
  {
   "cell_type": "markdown",
   "metadata": {},
   "source": [
    "## Using K-NN"
   ]
  },
  {
   "cell_type": "code",
   "execution_count": 14,
   "metadata": {},
   "outputs": [],
   "source": [
    "from sklearn.neighbors import KNeighborsClassifier"
   ]
  },
  {
   "cell_type": "markdown",
   "metadata": {},
   "source": [
    "use half the data for training and the other half for testing. Put the training data as a list of tuple (age, time)."
   ]
  },
  {
   "cell_type": "code",
   "execution_count": 15,
   "metadata": {},
   "outputs": [],
   "source": [
    "train_df = df.sample(frac=0.5, random_state=1) \n",
    "train_X = [(train_df['Age'].iloc[i], train_df['tot_minutes'].iloc[i]) for i in range(len(train_df))]\n",
    "train_Y = np.asarray([train_df['M/F']])[0]"
   ]
  },
  {
   "cell_type": "code",
   "execution_count": 16,
   "metadata": {},
   "outputs": [],
   "source": [
    "test_df = df.drop(train_df.index)\n",
    "test_X = [(test_df['Age'].iloc[i], test_df['tot_minutes'].iloc[i]) for i in range(len(test_df))]\n",
    "test_Y = np.asarray([test_df['M/F']])[0]"
   ]
  },
  {
   "cell_type": "code",
   "execution_count": 17,
   "metadata": {},
   "outputs": [
    {
     "data": {
      "text/plain": [
       "KNeighborsClassifier()"
      ]
     },
     "execution_count": 17,
     "metadata": {},
     "output_type": "execute_result"
    }
   ],
   "source": [
    "knn = KNeighborsClassifier()\n",
    "knn.fit(train_X, train_Y)"
   ]
  },
  {
   "cell_type": "code",
   "execution_count": 18,
   "metadata": {},
   "outputs": [
    {
     "data": {
      "text/plain": [
       "array(['M', 'M', 'M', ..., 'M', 'M', 'M'], dtype=object)"
      ]
     },
     "execution_count": 18,
     "metadata": {},
     "output_type": "execute_result"
    }
   ],
   "source": [
    "prediction = knn.predict(test_X)\n",
    "prediction"
   ]
  },
  {
   "cell_type": "code",
   "execution_count": 19,
   "metadata": {},
   "outputs": [
    {
     "data": {
      "text/plain": [
       "array(['M', 'M', 'M', ..., 'F', 'M', 'M'], dtype=object)"
      ]
     },
     "execution_count": 19,
     "metadata": {},
     "output_type": "execute_result"
    }
   ],
   "source": [
    "test_Y"
   ]
  },
  {
   "cell_type": "markdown",
   "metadata": {},
   "source": [
    "It gives a accurary of nearly 73%"
   ]
  },
  {
   "cell_type": "code",
   "execution_count": 20,
   "metadata": {},
   "outputs": [
    {
     "data": {
      "text/plain": [
       "0.7281162065556316"
      ]
     },
     "execution_count": 20,
     "metadata": {},
     "output_type": "execute_result"
    }
   ],
   "source": [
    "accuracy = (prediction == test_Y).sum()/len(test_Y)\n",
    "accuracy"
   ]
  },
  {
   "cell_type": "markdown",
   "metadata": {},
   "source": [
    "## improvement by Increase the size of the testing data for K-NN only"
   ]
  },
  {
   "cell_type": "markdown",
   "metadata": {},
   "source": [
    "Doing the same thing as above with the size of the training data increased to 90%. "
   ]
  },
  {
   "cell_type": "code",
   "execution_count": 21,
   "metadata": {},
   "outputs": [],
   "source": [
    "train_df = df.sample(frac=0.9, random_state=1) \n",
    "train_X = [(train_df['Age'].iloc[i], train_df['tot_minutes'].iloc[i]) for i in range(len(train_df))]\n",
    "train_Y = np.asarray([train_df['M/F']])[0]"
   ]
  },
  {
   "cell_type": "code",
   "execution_count": 22,
   "metadata": {},
   "outputs": [],
   "source": [
    "test_df = df.drop(train_df.index)\n",
    "test_X = [(test_df['Age'].iloc[i], test_df['tot_minutes'].iloc[i]) for i in range(len(test_df))]\n",
    "test_Y = np.asarray([test_df['M/F']])[0]"
   ]
  },
  {
   "cell_type": "code",
   "execution_count": 23,
   "metadata": {},
   "outputs": [
    {
     "data": {
      "text/plain": [
       "KNeighborsClassifier()"
      ]
     },
     "execution_count": 23,
     "metadata": {},
     "output_type": "execute_result"
    }
   ],
   "source": [
    "knn = KNeighborsClassifier()\n",
    "knn.fit(train_X, train_Y)"
   ]
  },
  {
   "cell_type": "code",
   "execution_count": 24,
   "metadata": {},
   "outputs": [],
   "source": [
    "prediction = knn.predict(test_X)"
   ]
  },
  {
   "cell_type": "code",
   "execution_count": 25,
   "metadata": {},
   "outputs": [
    {
     "data": {
      "text/plain": [
       "0.7212927756653993"
      ]
     },
     "execution_count": 25,
     "metadata": {},
     "output_type": "execute_result"
    }
   ],
   "source": [
    "accuracy = (prediction == test_Y).sum()/len(test_Y)\n",
    "accuracy"
   ]
  },
  {
   "cell_type": "markdown",
   "metadata": {},
   "source": [
    "## Conclusion"
   ]
  },
  {
   "cell_type": "markdown",
   "metadata": {},
   "source": [
    "Overall we have a good accuracy score for both predictions using KDE and K-NN. However, the prediction with KDE has a higher score. Increasing the size of the training data lower the accuracy of the predictions."
   ]
  }
 ],
 "metadata": {
  "kernelspec": {
   "display_name": "Python 3",
   "language": "python",
   "name": "python3"
  },
  "language_info": {
   "codemirror_mode": {
    "name": "ipython",
    "version": 3
   },
   "file_extension": ".py",
   "mimetype": "text/x-python",
   "name": "python",
   "nbconvert_exporter": "python",
   "pygments_lexer": "ipython3",
   "version": "3.8.3"
  }
 },
 "nbformat": 4,
 "nbformat_minor": 4
}
