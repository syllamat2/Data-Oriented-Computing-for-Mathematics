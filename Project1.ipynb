{
 "cells": [
  {
   "cell_type": "code",
   "execution_count": 1,
   "metadata": {},
   "outputs": [],
   "source": [
    "# Makhtar Sylla\n",
    "# MTH 448 Spring 21\n",
    "# Project 1: Reconizing digits with K-NN"
   ]
  },
  {
   "cell_type": "code",
   "execution_count": 2,
   "metadata": {},
   "outputs": [],
   "source": [
    "import numpy as np\n",
    "from statistics import mode"
   ]
  },
  {
   "cell_type": "markdown",
   "metadata": {},
   "source": [
    "The function knn takes a 2-dimensional array for training data, a 1-dimensional for containing labels, a 1-dimensional array with a data point, and an interger as the number of neighbors to use.\n",
    "we use the Euclidean Distance √(∑(xi - yi)2 where xi is a index of to the data point and yi belongs to an image the training data"
   ]
  },
  {
   "cell_type": "code",
   "execution_count": 3,
   "metadata": {},
   "outputs": [],
   "source": [
    "def knn(training_data, training_labels, x, n):\n",
    "    \n",
    "    euclid_sum = 0            # sum((xi - yi)2) for every xi and yi.  \n",
    "    euclideanDistance = []    # a list of Euclidean distances. \n",
    "    \n",
    "    for i in range(len(training_data)):\n",
    "        row_data = training_data[i]\n",
    "        for j in range(len(x)):\n",
    "            euclid_sum += (x[j] - row_data[j])**2\n",
    "        euclideanDistance.append(np.sqrt(euclid_sum))\n",
    "        euclid_sum = 0\n",
    "    \n",
    "    # nearest: list of indeces of the images to use for classification\n",
    "    # neighbors: list of labels corresponding to the images index in nearest\n",
    "    # mode from statistics is use the select the most common elements from the labels in nearest as the predicted label.\n",
    "    myArray = np.argsort(euclideanDistance)\n",
    "    nearest = myArray[:n]              \n",
    "    neighbors = []\n",
    "    for i in range(len(nearest)):\n",
    "        neighbors.append(training_labels[nearest[i]])\n",
    "    label = mode(neighbors)\n",
    "    \n",
    "    return (label, np.sort(nearest))"
   ]
  },
  {
   "cell_type": "markdown",
   "metadata": {},
   "source": [
    "Load, process, and cleand the data.\n",
    "For the images, the pixels start from the 16th byte.\n",
    "For the label, the digits start from the 8th byte.\n",
    "We will load 25 images."
   ]
  },
  {
   "cell_type": "code",
   "execution_count": 4,
   "metadata": {},
   "outputs": [],
   "source": [
    "import gzip\n",
    "with gzip.open(\"train-images-idx3-ubyte.gz\", \"rb\") as foo:\n",
    "    f= foo.read()\n",
    "image = np.array([b for b in f[16:19616]]).reshape(-1, 28*28)\n",
    "with gzip.open(\"train-labels-idx1-ubyte.gz\", \"rb\") as buzz:\n",
    "    bz= buzz.read()\n",
    "lab = np.array([b for b in bz[8:]])"
   ]
  },
  {
   "cell_type": "markdown",
   "metadata": {},
   "source": [
    "We begin by predicting 4 labels, then check wheither they are correct"
   ]
  },
  {
   "cell_type": "code",
   "execution_count": 5,
   "metadata": {},
   "outputs": [
    {
     "data": {
      "text/plain": [
       "(1, array([ 6,  8, 14, 18, 19], dtype=int64))"
      ]
     },
     "execution_count": 5,
     "metadata": {},
     "output_type": "execute_result"
    }
   ],
   "source": [
    "image_a = knn(image, lab, image[8], 5)\n",
    "image_a"
   ]
  },
  {
   "cell_type": "code",
   "execution_count": 6,
   "metadata": {},
   "outputs": [
    {
     "data": {
      "text/plain": [
       "<matplotlib.image.AxesImage at 0x199b20a4f70>"
      ]
     },
     "execution_count": 6,
     "metadata": {},
     "output_type": "execute_result"
    },
    {
     "data": {
      "image/png": "[encoded data removed]",
      "text/plain": [
       "<Figure size 72x72 with 1 Axes>"
      ]
     },
     "metadata": {},
     "output_type": "display_data"
    }
   ],
   "source": [
    "import matplotlib.pyplot as plt\n",
    "plt.figure(figsize=(1,1))\n",
    "plt.xticks([])\n",
    "plt.yticks([])\n",
    "\n",
    "plt.imshow(image[8].reshape(28, 28))"
   ]
  },
  {
   "cell_type": "code",
   "execution_count": 7,
   "metadata": {},
   "outputs": [
    {
     "data": {
      "text/plain": [
       "(1, array([ 3,  8, 11, 14, 23], dtype=int64))"
      ]
     },
     "execution_count": 7,
     "metadata": {},
     "output_type": "execute_result"
    }
   ],
   "source": [
    "image_b = knn(image, lab, image[11], 5)\n",
    "image_b"
   ]
  },
  {
   "cell_type": "code",
   "execution_count": 8,
   "metadata": {},
   "outputs": [
    {
     "data": {
      "text/plain": [
       "<matplotlib.image.AxesImage at 0x199b211aa90>"
      ]
     },
     "execution_count": 8,
     "metadata": {},
     "output_type": "execute_result"
    },
    {
     "data": {
      "image/png": "[encoded data removed]",
      "text/plain": [
       "<Figure size 72x72 with 1 Axes>"
      ]
     },
     "metadata": {},
     "output_type": "display_data"
    }
   ],
   "source": [
    "plt.figure(figsize=(1,1))\n",
    "plt.xticks([])\n",
    "plt.yticks([])\n",
    "plt.imshow(image[11].reshape(28, 28))"
   ]
  },
  {
   "cell_type": "code",
   "execution_count": 9,
   "metadata": {},
   "outputs": [
    {
     "data": {
      "text/plain": [
       "(9, array([ 4,  9, 15, 19, 22], dtype=int64))"
      ]
     },
     "execution_count": 9,
     "metadata": {},
     "output_type": "execute_result"
    }
   ],
   "source": [
    "image_c = knn(image, lab, image[15], 5)\n",
    "image_c"
   ]
  },
  {
   "cell_type": "code",
   "execution_count": 10,
   "metadata": {},
   "outputs": [
    {
     "data": {
      "text/plain": [
       "<matplotlib.image.AxesImage at 0x199b215a3a0>"
      ]
     },
     "execution_count": 10,
     "metadata": {},
     "output_type": "execute_result"
    },
    {
     "data": {
      "image/png": "[encoded data removed]",
      "text/plain": [
       "<Figure size 72x72 with 1 Axes>"
      ]
     },
     "metadata": {},
     "output_type": "display_data"
    }
   ],
   "source": [
    "plt.figure(figsize=(1,1))\n",
    "plt.xticks([])\n",
    "plt.yticks([])\n",
    "plt.imshow(image[15].reshape(28, 28))"
   ]
  },
  {
   "cell_type": "code",
   "execution_count": 11,
   "metadata": {},
   "outputs": [
    {
     "data": {
      "text/plain": [
       "(9, array([ 8, 15, 17, 19, 22], dtype=int64))"
      ]
     },
     "execution_count": 11,
     "metadata": {},
     "output_type": "execute_result"
    }
   ],
   "source": [
    "image_d = knn(image, lab, image[19], 5)\n",
    "image_d"
   ]
  },
  {
   "cell_type": "code",
   "execution_count": 12,
   "metadata": {},
   "outputs": [
    {
     "data": {
      "text/plain": [
       "<matplotlib.image.AxesImage at 0x199b218cc70>"
      ]
     },
     "execution_count": 12,
     "metadata": {},
     "output_type": "execute_result"
    },
    {
     "data": {
      "image/png": "[encoded data removed]",
      "text/plain": [
       "<Figure size 72x72 with 1 Axes>"
      ]
     },
     "metadata": {},
     "output_type": "display_data"
    }
   ],
   "source": [
    "plt.figure(figsize=(1,1))\n",
    "plt.xticks([])\n",
    "plt.yticks([])\n",
    "plt.imshow(image[19].reshape(28, 28))"
   ]
  },
  {
   "cell_type": "markdown",
   "metadata": {},
   "source": [
    "The first test shows that 2 of the predictions were correct, and the other 2 did not match.\n",
    "Now we are going to test again by changing the the number of neighbors n to use for classification."
   ]
  },
  {
   "cell_type": "code",
   "execution_count": 13,
   "metadata": {},
   "outputs": [
    {
     "data": {
      "text/plain": [
       "(1, array([ 3,  4,  6,  8,  9, 10, 11, 14, 18, 19, 22, 23, 24], dtype=int64))"
      ]
     },
     "execution_count": 13,
     "metadata": {},
     "output_type": "execute_result"
    }
   ],
   "source": [
    "# Increasing n for a previously correct prediction\n",
    "# in the previous test we checked that image_a is 1.\n",
    "image_a = knn(image, lab, image[8], 13)\n",
    "image_a"
   ]
  },
  {
   "cell_type": "code",
   "execution_count": 14,
   "metadata": {},
   "outputs": [
    {
     "data": {
      "text/plain": [
       "(1, array([ 3,  4,  6,  8,  9, 11, 14, 15, 17, 18, 19, 22, 23], dtype=int64))"
      ]
     },
     "execution_count": 14,
     "metadata": {},
     "output_type": "execute_result"
    }
   ],
   "source": [
    "# Increasing n for image_d which was rightly predicted to be 9\n",
    "image_d = knn(image, lab, image[19], 13)\n",
    "image_d"
   ]
  },
  {
   "cell_type": "code",
   "execution_count": 15,
   "metadata": {},
   "outputs": [
    {
     "data": {
      "text/plain": [
       "(1, array([ 2,  3,  6,  8,  9, 11, 14, 17, 18, 19, 22, 23, 24], dtype=int64))"
      ]
     },
     "execution_count": 15,
     "metadata": {},
     "output_type": "execute_result"
    }
   ],
   "source": [
    "# Increasing n for a previously incorrect prediction.\n",
    "image_b = knn(image, lab, image[11], 13)\n",
    "image_b\n",
    "# We know that image_b is 5 from a test above."
   ]
  },
  {
   "cell_type": "code",
   "execution_count": 16,
   "metadata": {},
   "outputs": [
    {
     "data": {
      "text/plain": [
       "(1, array([ 3,  4,  5,  8,  9, 11, 14, 15, 17, 19, 22, 23, 24], dtype=int64))"
      ]
     },
     "execution_count": 16,
     "metadata": {},
     "output_type": "execute_result"
    }
   ],
   "source": [
    "# Increasing n for another prediction that was incorrect\n",
    "image_c = knn(image, lab, image[15], 13)\n",
    "image_c\n",
    "# It was showed that image_c is 7 "
   ]
  },
  {
   "cell_type": "markdown",
   "metadata": {},
   "source": [
    "The prediction of image_b and image_c is still incorrect, while image_d becomes incorrect when n increasing."
   ]
  },
  {
   "cell_type": "code",
   "execution_count": 17,
   "metadata": {},
   "outputs": [
    {
     "name": "stdout",
     "output_type": "stream",
     "text": [
      "(1, array([ 3, 11, 23], dtype=int64))\n"
     ]
    },
    {
     "data": {
      "text/plain": [
       "(9, array([15, 19, 22], dtype=int64))"
      ]
     },
     "execution_count": 17,
     "metadata": {},
     "output_type": "execute_result"
    }
   ],
   "source": [
    "# Now we decrease n for the prediction of image_b and image_c.\n",
    "# Remember that the true labels for these images are 5 and 9 respectively.\n",
    "\n",
    "print(knn(image, lab, image[11], 3))\n",
    "knn(image, lab, image[15], 3)"
   ]
  },
  {
   "cell_type": "markdown",
   "metadata": {},
   "source": [
    "Image_c is correct but not image_b. \n",
    "Now we will slowly decrease n for image_b to find what is the turning point."
   ]
  },
  {
   "cell_type": "code",
   "execution_count": 18,
   "metadata": {},
   "outputs": [
    {
     "name": "stdout",
     "output_type": "stream",
     "text": [
      "(1, array([ 3,  8,  9, 11, 14, 17, 18, 19, 22, 23], dtype=int64))\n",
      "\n",
      "(1, array([ 3,  8,  9, 11, 14, 18, 19, 22, 23], dtype=int64))\n",
      "\n",
      "(1, array([ 3,  8,  9, 11, 14, 19, 22, 23], dtype=int64))\n",
      "\n",
      "(1, array([ 3,  8,  9, 11, 14, 22, 23], dtype=int64))\n",
      "\n",
      "(1, array([ 3,  8, 11, 14, 22, 23], dtype=int64))\n",
      "\n",
      "(1, array([ 3,  8, 11, 14, 23], dtype=int64))\n",
      "\n",
      "(1, array([ 3, 11, 14, 23], dtype=int64))\n",
      "\n",
      "(1, array([ 3, 11, 23], dtype=int64))\n",
      "\n",
      "(5, array([11, 23], dtype=int64))\n",
      "\n"
     ]
    }
   ],
   "source": [
    "i = 10\n",
    "while (i>1):\n",
    "    print(knn(image, lab, image[11], i))\n",
    "    print()\n",
    "    i -= 1"
   ]
  },
  {
   "cell_type": "code",
   "execution_count": 19,
   "metadata": {},
   "outputs": [
    {
     "name": "stdout",
     "output_type": "stream",
     "text": [
      "(1, array([ 3,  4,  6,  8,  9, 14, 15, 17, 18, 19, 22, 23], dtype=int64))\n",
      "\n",
      "(1, array([ 3,  4,  6,  8,  9, 14, 15, 17, 19, 22, 23], dtype=int64))\n",
      "\n",
      "(1, array([ 3,  4,  8,  9, 14, 15, 17, 19, 22, 23], dtype=int64))\n",
      "\n",
      "(9, array([ 4,  8,  9, 14, 15, 17, 19, 22, 23], dtype=int64))\n",
      "\n",
      "(9, array([ 4,  8,  9, 14, 15, 17, 19, 22], dtype=int64))\n",
      "\n",
      "(9, array([ 4,  8, 14, 15, 17, 19, 22], dtype=int64))\n",
      "\n",
      "(9, array([ 8, 14, 15, 17, 19, 22], dtype=int64))\n",
      "\n",
      "(9, array([ 8, 15, 17, 19, 22], dtype=int64))\n",
      "\n",
      "(9, array([15, 17, 19, 22], dtype=int64))\n",
      "\n",
      "(9, array([17, 19, 22], dtype=int64))\n",
      "\n",
      "(9, array([19, 22], dtype=int64))\n",
      "\n"
     ]
    }
   ],
   "source": [
    "# To understand better the output of the cell above (image_b), we test in a similar way image_d which had similar behavior\n",
    "# The true label of image_d is 9.\n",
    "i = 12\n",
    "while (i>1):\n",
    "    print(knn(image, lab, image[19], i))\n",
    "    print()\n",
    "    i -= 1"
   ]
  },
  {
   "cell_type": "markdown",
   "metadata": {},
   "source": [
    "Lets do the same thing to with image_a, which has always been correct, and image_c by increasing n this time."
   ]
  },
  {
   "cell_type": "code",
   "execution_count": 20,
   "metadata": {},
   "outputs": [
    {
     "name": "stdout",
     "output_type": "stream",
     "text": [
      "(1, array([8], dtype=int64))\n",
      "\n",
      "(1, array([ 8, 14], dtype=int64))\n",
      "\n",
      "(1, array([ 6,  8, 14], dtype=int64))\n",
      "\n",
      "(1, array([ 6,  8, 14, 19], dtype=int64))\n",
      "\n",
      "(1, array([ 6,  8, 14, 18, 19], dtype=int64))\n",
      "\n",
      "(1, array([ 6,  8, 14, 18, 19, 22], dtype=int64))\n",
      "\n",
      "(1, array([ 4,  6,  8, 14, 18, 19, 22], dtype=int64))\n",
      "\n",
      "(1, array([ 4,  6,  8, 11, 14, 18, 19, 22], dtype=int64))\n",
      "\n",
      "(1, array([ 4,  6,  8, 11, 14, 18, 19, 22, 23], dtype=int64))\n",
      "\n",
      "(1, array([ 3,  4,  6,  8, 11, 14, 18, 19, 22, 23], dtype=int64))\n",
      "\n",
      "(1, array([ 3,  4,  6,  8, 11, 14, 18, 19, 22, 23, 24], dtype=int64))\n",
      "\n",
      "(1, array([ 3,  4,  6,  8, 10, 11, 14, 18, 19, 22, 23, 24], dtype=int64))\n",
      "\n"
     ]
    }
   ],
   "source": [
    "# We rightly predicted image_a as 1.\n",
    "i = 1\n",
    "while (i<13):\n",
    "    print(knn(image, lab, image[8], i))\n",
    "    print()\n",
    "    i += 1"
   ]
  },
  {
   "cell_type": "code",
   "execution_count": 21,
   "metadata": {},
   "outputs": [
    {
     "name": "stdout",
     "output_type": "stream",
     "text": [
      "(7, array([15], dtype=int64))\n",
      "\n",
      "(7, array([15, 19], dtype=int64))\n",
      "\n",
      "(9, array([15, 19, 22], dtype=int64))\n",
      "\n",
      "(9, array([ 4, 15, 19, 22], dtype=int64))\n",
      "\n",
      "(9, array([ 4,  9, 15, 19, 22], dtype=int64))\n",
      "\n",
      "(9, array([ 4,  9, 15, 17, 19, 22], dtype=int64))\n",
      "\n",
      "(9, array([ 4,  5,  9, 15, 17, 19, 22], dtype=int64))\n",
      "\n",
      "(9, array([ 4,  5,  9, 15, 17, 19, 22, 24], dtype=int64))\n",
      "\n",
      "(9, array([ 4,  5,  9, 15, 17, 19, 22, 23, 24], dtype=int64))\n",
      "\n",
      "(9, array([ 3,  4,  5,  9, 15, 17, 19, 22, 23, 24], dtype=int64))\n",
      "\n",
      "(1, array([ 3,  4,  5,  8,  9, 15, 17, 19, 22, 23, 24], dtype=int64))\n",
      "\n",
      "(1, array([ 3,  4,  5,  8,  9, 14, 15, 17, 19, 22, 23, 24], dtype=int64))\n",
      "\n"
     ]
    }
   ],
   "source": [
    "# Image_c holds the number 7.\n",
    "i = 1\n",
    "while (i<13):\n",
    "    print(knn(image, lab, image[15], i))\n",
    "    print()\n",
    "    i += 1"
   ]
  },
  {
   "cell_type": "markdown",
   "metadata": {},
   "source": [
    "## Conlusions:\n",
    "Interestingly, we discovered that the predictions are more accurate, for some images like image_d (image[19]), as n, the number of neighbors used for classification, gets smaller. For image_b (image[11]) the prediction is correct only if n equals 1.\n",
    "\n",
    "In contrast with image_b and image_d, the prediction of image_c is more accurate as n increases. It contains the number 7, but is confused with 9 most of the time or 1 as n becomes very small.\n",
    "\n",
    "For other images, like image_a, the prediction is always correct for 0<n<14. It happens that image_a contains the number 1 which is the simplest and easiest number to draw but also the hardest to be confused with any other number. This is probably why its prediction has been easy too."
   ]
  }
 ],
 "metadata": {
  "kernelspec": {
   "display_name": "Python 3",
   "language": "python",
   "name": "python3"
  },
  "language_info": {
   "codemirror_mode": {
    "name": "ipython",
    "version": 3
   },
   "file_extension": ".py",
   "mimetype": "text/x-python",
   "name": "python",
   "nbconvert_exporter": "python",
   "pygments_lexer": "ipython3",
   "version": "3.8.3"
  }
 },
 "nbformat": 4,
 "nbformat_minor": 4
}
